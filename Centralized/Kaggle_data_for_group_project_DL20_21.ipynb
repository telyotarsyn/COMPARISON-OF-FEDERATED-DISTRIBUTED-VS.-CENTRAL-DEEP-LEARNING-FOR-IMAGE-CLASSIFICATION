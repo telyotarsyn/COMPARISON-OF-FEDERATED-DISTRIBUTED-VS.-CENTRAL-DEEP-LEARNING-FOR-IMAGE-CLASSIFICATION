{
  "nbformat": 4,
  "nbformat_minor": 0,
  "metadata": {
    "colab": {
      "name": "Kaggle data for group project DL20-21.ipynb",
      "private_outputs": true,
      "provenance": [],
      "collapsed_sections": [],
      "toc_visible": true
    },
    "kernelspec": {
      "name": "python3",
      "display_name": "Python 3"
    },
    "accelerator": "GPU"
  },
  "cells": [
    {
      "cell_type": "code",
      "metadata": {
        "id": "PlLZufZ3vZRH"
      },
      "source": [
        "%%shell\r\n",
        "pip install -q kaggle"
      ],
      "execution_count": null,
      "outputs": []
    },
    {
      "cell_type": "code",
      "metadata": {
        "id": "BVhY0WmEviZq"
      },
      "source": [
        "from google.colab import files"
      ],
      "execution_count": null,
      "outputs": []
    },
    {
      "cell_type": "code",
      "metadata": {
        "id": "PiumIgkwKcBY"
      },
      "source": [
        "files.upload()"
      ],
      "execution_count": null,
      "outputs": []
    },
    {
      "cell_type": "code",
      "metadata": {
        "id": "AMMrtwhxvw-I"
      },
      "source": [
        "%%shell \r\n",
        "mkdir ~/.kaggle"
      ],
      "execution_count": null,
      "outputs": []
    },
    {
      "cell_type": "code",
      "metadata": {
        "id": "640D_WeLv0SK"
      },
      "source": [
        "! cp kaggle.json ~/.kaggle/"
      ],
      "execution_count": null,
      "outputs": []
    },
    {
      "cell_type": "code",
      "metadata": {
        "id": "UBZRI7xpwB_V"
      },
      "source": [
        "! chmod 600 ~/.kaggle/kaggle.json"
      ],
      "execution_count": null,
      "outputs": []
    },
    {
      "cell_type": "code",
      "metadata": {
        "id": "8es90XwawInt"
      },
      "source": [
        " ! kaggle datasets list"
      ],
      "execution_count": null,
      "outputs": []
    },
    {
      "cell_type": "code",
      "metadata": {
        "id": "Pp-j9eHgwZNV"
      },
      "source": [
        "! kaggle datasets download -d puneet6060/intel-image-classification"
      ],
      "execution_count": null,
      "outputs": []
    },
    {
      "cell_type": "code",
      "metadata": {
        "id": "bIBBE5nRws4e"
      },
      "source": [
        "!mkdir intel-image-classification"
      ],
      "execution_count": null,
      "outputs": []
    },
    {
      "cell_type": "code",
      "metadata": {
        "id": "DIRk2Y0rwyRs"
      },
      "source": [
        "! unzip intel-image-classification.zip -d intel-image-classification/"
      ],
      "execution_count": null,
      "outputs": []
    },
    {
      "cell_type": "code",
      "metadata": {
        "id": "O7SVyvQuw_u3"
      },
      "source": [
        "import tensorflow.keras.layers as Layers\r\n",
        "import tensorflow.keras.activations as Actications\r\n",
        "import tensorflow.keras.models as Models\r\n",
        "import tensorflow.keras.optimizers as Optimizer\r\n",
        "import tensorflow.keras.metrics as Metrics\r\n",
        "import tensorflow.keras.utils as Utils\r\n",
        "from keras.utils.vis_utils import model_to_dot\r\n",
        "import os\r\n",
        "import matplotlib.pyplot as plot\r\n",
        "import cv2\r\n",
        "import numpy as np\r\n",
        "from sklearn.utils import shuffle\r\n",
        "from sklearn.metrics import confusion_matrix as CM\r\n",
        "from random import randint\r\n",
        "from IPython.display import SVG\r\n",
        "import matplotlib.gridspec as gridspec"
      ],
      "execution_count": null,
      "outputs": []
    },
    {
      "cell_type": "code",
      "metadata": {
        "id": "O9YIfBJyZ4Lg"
      },
      "source": [
        "def get_images(directory):\r\n",
        "    Images = []\r\n",
        "    Labels = []  # 0 for Building , 1 for forest, 2 for glacier, 3 for mountain, 4 for Sea , 5 for Street\r\n",
        "    label = 0\r\n",
        "    \r\n",
        "    for labels in os.listdir(directory): #Main Directory where each class label is present as folder name.\r\n",
        "        if labels == 'glacier': #Folder contain Glacier Images get the '2' class label.\r\n",
        "            label = 2\r\n",
        "        elif labels == 'sea':\r\n",
        "            label = 4\r\n",
        "        elif labels == 'buildings':\r\n",
        "            label = 0\r\n",
        "        elif labels == 'forest':\r\n",
        "            label = 1\r\n",
        "        elif labels == 'street':\r\n",
        "            label = 5\r\n",
        "        elif labels == 'mountain':\r\n",
        "            label = 3\r\n",
        "        \r\n",
        "        for image_file in os.listdir(directory+labels): #Extracting the file name of the image from Class Label folder\r\n",
        "            image = cv2.imread(directory+labels+r'/'+image_file) #Reading the image (OpenCV)\r\n",
        "            image = cv2.resize(image,(150,150)) #Resize the image, Some images are different sizes. (Resizing is very Important)\r\n",
        "            Images.append(image)\r\n",
        "            Labels.append(label)\r\n",
        "    \r\n",
        "    return shuffle(Images,Labels,random_state=817328462) #Shuffle the dataset you just prepared.\r\n",
        "\r\n",
        "def get_classlabel(class_code):\r\n",
        "    labels = {2:'glacier', 4:'sea', 0:'buildings', 1:'forest', 5:'street', 3:'mountain'}\r\n",
        "    \r\n",
        "    return labels[class_code]"
      ],
      "execution_count": null,
      "outputs": []
    },
    {
      "cell_type": "code",
      "metadata": {
        "id": "OAGJbgYExgOf"
      },
      "source": [
        "Images, Labels = get_images('/content/intel-image-classification/seg_train/seg_train/') \r\n",
        "\r\n",
        "Images = np.array(Images, dtype=np.float32) #converting the list of images to numpy array.\r\n",
        "Images = Images/255.0\r\n",
        "Labels = np.array(Labels)"
      ],
      "execution_count": null,
      "outputs": []
    },
    {
      "cell_type": "code",
      "metadata": {
        "id": "nA3N0T17aMBM"
      },
      "source": [
        "import matplotlib.pyplot as plt\r\n"
      ],
      "execution_count": null,
      "outputs": []
    },
    {
      "cell_type": "code",
      "metadata": {
        "id": "6lDn8mLNybQP"
      },
      "source": [
        "f,ax = plt.subplots(5,5) \r\n",
        "f.subplots_adjust(0,0,3,3)\r\n",
        "for i in range(0,5,1):\r\n",
        "    for j in range(0,5,1):\r\n",
        "        rnd_number = randint(0,len(Images))\r\n",
        "        ax[i,j].imshow(Images[rnd_number])\r\n",
        "        ax[i,j].set_title(get_classlabel(Labels[rnd_number]))\r\n",
        "        ax[i,j].axis('off')"
      ],
      "execution_count": null,
      "outputs": []
    },
    {
      "cell_type": "code",
      "metadata": {
        "id": "lH_F2h5QaZYx"
      },
      "source": [
        "print(\"Shape of Images:\",Images.shape)\r\n",
        "print(\"Shape of Labels:\",Labels.shape)"
      ],
      "execution_count": null,
      "outputs": []
    },
    {
      "cell_type": "markdown",
      "metadata": {
        "id": "zElI4XUAsCTx"
      },
      "source": [
        "# **1.Centralized Image Classification Approach**"
      ]
    },
    {
      "cell_type": "markdown",
      "metadata": {
        "id": "iiHMl9XtsSrc"
      },
      "source": [
        "# 1.1 Implementing of CNN architecture for the Task"
      ]
    },
    {
      "cell_type": "code",
      "metadata": {
        "id": "a7mM0_brygCR"
      },
      "source": [
        "from keras.preprocessing.image import ImageDataGenerator\r\n",
        "\r\n",
        "train_DIR = \"/content/intel-image-classification/seg_train/seg_train/\"\r\n",
        "\r\n",
        "train_datagen = ImageDataGenerator( rescale = 1.0/255)\r\n",
        "\r\n",
        "\r\n",
        "train_generator = train_datagen.flow_from_directory(train_DIR,\r\n",
        "                                                    batch_size=32,\r\n",
        "                                                    class_mode='categorical',\r\n",
        "                                                    target_size=(150, 150))\r\n",
        "\r\n",
        "test_DIR = \"/content/intel-image-classification/seg_test/seg_test/\"\r\n",
        "\r\n",
        "validation_datagen = ImageDataGenerator(rescale = 1.0/255)\r\n",
        "\r\n",
        "\r\n",
        "validation_generator = validation_datagen.flow_from_directory(test_DIR,\r\n",
        "                                                    batch_size=128,\r\n",
        "                                                    class_mode='categorical',\r\n",
        "                                                    target_size=(150, 150))"
      ],
      "execution_count": null,
      "outputs": []
    },
    {
      "cell_type": "code",
      "metadata": {
        "id": "od3h3dZPalAF"
      },
      "source": [
        "model = Models.Sequential()\r\n",
        "\r\n",
        "model.add(Layers.Conv2D(200,kernel_size=(3,3),activation='relu',input_shape=(150,150,3)))\r\n",
        "model.add(Layers.Conv2D(180,kernel_size=(3,3),activation='relu'))\r\n",
        "model.add(Layers.MaxPool2D(5,5))\r\n",
        "model.add(Layers.Conv2D(180,kernel_size=(3,3),activation='relu'))\r\n",
        "model.add(Layers.Conv2D(140,kernel_size=(3,3),activation='relu'))\r\n",
        "model.add(Layers.Conv2D(100,kernel_size=(3,3),activation='relu'))\r\n",
        "model.add(Layers.Conv2D(50,kernel_size=(3,3),activation='relu'))\r\n",
        "model.add(Layers.MaxPool2D(5,5))\r\n",
        "model.add(Layers.Flatten())\r\n",
        "model.add(Layers.Dense(180,activation='relu'))\r\n",
        "model.add(Layers.Dense(100,activation='relu'))\r\n",
        "model.add(Layers.Dense(50,activation='relu'))\r\n",
        "model.add(Layers.Dropout(rate=0.5))\r\n",
        "model.add(Layers.Dense(6,activation='softmax'))\r\n",
        "\r\n",
        "model.compile(optimizer=Optimizer.SGD(lr=0.0001),loss='categorical_crossentropy',metrics=['accuracy'])\r\n",
        "\r\n",
        "model.summary()\r\n",
        "SVG(model_to_dot(model).create(prog='dot', format='svg'))\r\n",
        "Utils.plot_model(model,to_file='model.png',show_shapes=True)"
      ],
      "execution_count": null,
      "outputs": []
    },
    {
      "cell_type": "markdown",
      "metadata": {
        "id": "_P-w6mals_8B"
      },
      "source": [
        "Training the classifier on 27 epochs reducing learning rate by 4 times if learning rate did not change for one more epoch\r\n",
        "\r\n",
        "Reducing implemented to avoid gradient explosion"
      ]
    },
    {
      "cell_type": "code",
      "metadata": {
        "id": "fxNmg_E30Ei_"
      },
      "source": [
        "history = model.fit(train_generator,\r\n",
        "                    epochs = 27,\r\n",
        "                    verbose = 1,\r\n",
        "                   validation_data = validation_generator\r\n",
        "                   )"
      ],
      "execution_count": null,
      "outputs": []
    },
    {
      "cell_type": "code",
      "metadata": {
        "id": "Xjf7sc0Mkjmz"
      },
      "source": [
        "%matplotlib inline\r\n",
        "acc = history.history['accuracy']\r\n",
        "val_acc = history.history['val_accuracy']\r\n",
        "loss = history.history['loss']\r\n",
        "val_loss = history.history['val_loss']\r\n",
        "\r\n",
        "epochs = range(len(acc))\r\n",
        "\r\n",
        "plt.plot(epochs, acc, 'r', label='Training accuracy')\r\n",
        "plt.plot(epochs, val_acc, 'b', label='Validation accuracy')\r\n",
        "plt.title('Training and validation accuracy')\r\n",
        "plt.legend()\r\n",
        "plt.figure()\r\n",
        "\r\n",
        "plt.plot(epochs, loss, 'r', label='Training Loss')\r\n",
        "plt.plot(epochs, val_loss, 'b', label='Validation Loss')\r\n",
        "plt.title('Training and validation loss')\r\n",
        "plt.legend()\r\n",
        "\r\n",
        "plt.show()"
      ],
      "execution_count": null,
      "outputs": []
    },
    {
      "cell_type": "code",
      "metadata": {
        "id": "zJo-8QSf3dvi"
      },
      "source": [
        "def get_images(directory):\r\n",
        "    Images = []\r\n",
        "    Labels = []  # 0 for Building , 1 for forest, 2 for glacier, 3 for mountain, 4 for Sea , 5 for Street\r\n",
        "    label = 0\r\n",
        "    \r\n",
        "    for labels in os.listdir(directory): #Main Directory where each class label is present as folder name.\r\n",
        "        if labels == 'glacier': #Folder contain Glacier Images get the '2' class label.\r\n",
        "            label = 2\r\n",
        "        elif labels == 'sea':\r\n",
        "            label = 4\r\n",
        "        elif labels == 'buildings':\r\n",
        "            label = 0\r\n",
        "        elif labels == 'forest':\r\n",
        "            label = 1\r\n",
        "        elif labels == 'street':\r\n",
        "            label = 5\r\n",
        "        elif labels == 'mountain':\r\n",
        "            label = 3\r\n",
        "        \r\n",
        "        for image_file in os.listdir(directory+labels): #Extracting the file name of the image from Class Label folder\r\n",
        "            image = cv2.imread(directory+labels+r'/'+image_file) #Reading the image (OpenCV)\r\n",
        "            image = cv2.resize(image,(150,150)) #Resize the image, Some images are different sizes. (Resizing is very Important)\r\n",
        "            Images.append(image)\r\n",
        "            Labels.append(label)\r\n",
        "    \r\n",
        "    return shuffle(Images,Labels,random_state=817328462) #Shuffle the dataset you just prepared.\r\n",
        "\r\n",
        "def get_classlabel(class_code):\r\n",
        "    labels = {2:'glacier', 4:'sea', 0:'buildings', 1:'forest', 5:'street', 3:'mountain'}\r\n",
        "    \r\n",
        "    return labels[class_code]"
      ],
      "execution_count": null,
      "outputs": []
    },
    {
      "cell_type": "code",
      "metadata": {
        "id": "-1t9HyIvb6J1"
      },
      "source": [
        "pred_images,no_labels = get_images('/content/pred/pred')\r\n",
        "pred_images = np.array(pred_images)\r\n",
        "pred_images.shape"
      ],
      "execution_count": null,
      "outputs": []
    },
    {
      "cell_type": "code",
      "metadata": {
        "id": "utigda7d4U3q"
      },
      "source": [
        "fig = plot.figure(figsize=(30, 30))\r\n",
        "outer = gridspec.GridSpec(1, 5, wspace=0.2, hspace=0.2)\r\n",
        "\r\n",
        "for i in range(5):\r\n",
        "    inner = gridspec.GridSpecFromSubplotSpec(2, 1,subplot_spec=outer[i], wspace=0.1, hspace=0.1)\r\n",
        "    rnd_number = randint(0,len(pred_images)-1)\r\n",
        "    pred_image = np.array([pred_images[rnd_number]])\r\n",
        "    pred_class = get_classlabel(model.predict_classes(pred_image)[0])\r\n",
        "    pred_prob = model.predict(pred_image).reshape(6)\r\n",
        "    for j in range(2):\r\n",
        "        if (j%2) == 0:\r\n",
        "            ax = plot.Subplot(fig, inner[j])\r\n",
        "            ax.imshow(pred_image[0])\r\n",
        "            ax.set_title(pred_class)\r\n",
        "            ax.set_xticks([])\r\n",
        "            ax.set_yticks([])\r\n",
        "            fig.add_subplot(ax)\r\n",
        "        \r\n",
        "\r\n",
        "\r\n",
        "fig.show()"
      ],
      "execution_count": null,
      "outputs": []
    },
    {
      "cell_type": "code",
      "metadata": {
        "id": "OA2hyISHr9Xh"
      },
      "source": [
        "import numpy as np\r\n",
        "import tensorflow as tf\r\n",
        "import collections\r\n",
        "import random\r\n",
        "from tensorflow import keras\r\n",
        "from tensorflow.keras import layers\r\n",
        "import pickle\r\n",
        "import matplotlib\r\n",
        "matplotlib.use('Agg')\r\n",
        "import matplotlib.pyplot as plt\r\n",
        "%matplotlib inline \r\n",
        "model.save('/content/drive/MyDrive/centr.h5')  #Saving model"
      ],
      "execution_count": null,
      "outputs": []
    },
    {
      "cell_type": "code",
      "metadata": {
        "id": "t4s-7WQuviv0"
      },
      "source": [
        "from google.colab import drive\n",
        "drive.mount('/content/drive')"
      ],
      "execution_count": null,
      "outputs": []
    },
    {
      "cell_type": "code",
      "metadata": {
        "id": "cBbaXmgzvgvJ"
      },
      "source": [
        "from tensorflow import keras\r\n",
        "c"
      ],
      "execution_count": null,
      "outputs": []
    },
    {
      "cell_type": "code",
      "metadata": {
        "id": "-tu7_WwWv7rW"
      },
      "source": [
        "model.compile(optimizer=Optimizer.SGD(lr=0.0001),loss='categorical_crossentropy',metrics=['accuracy'])"
      ],
      "execution_count": null,
      "outputs": []
    },
    {
      "cell_type": "code",
      "metadata": {
        "id": "5QaEte_Z9eC9"
      },
      "source": [
        "model.evaluate(,32,verbose=1)"
      ],
      "execution_count": null,
      "outputs": []
    },
    {
      "cell_type": "code",
      "metadata": {
        "id": "0j2bNnZNv-tq"
      },
      "source": [
        "fig = plot.figure(figsize=(30, 30))\r\n",
        "outer = gridspec.GridSpec(1, 5, wspace=0.2, hspace=0.2)\r\n",
        "\r\n",
        "for i in range(5):\r\n",
        "    inner = gridspec.GridSpecFromSubplotSpec(2, 1,subplot_spec=outer[i], wspace=0.1, hspace=0.1)\r\n",
        "    rnd_number = randint(0,len(pred_images))\r\n",
        "    pred_image = np.array([pred_images[rnd_number]])\r\n",
        "    pred_class = get_classlabel(model.predict_classes(pred_image)[0])\r\n",
        "    pred_prob = model.predict(pred_image).reshape(6)\r\n",
        "    for j in range(2):\r\n",
        "        if (j%2) == 0:\r\n",
        "            ax = plot.Subplot(fig, inner[j])\r\n",
        "            ax.imshow(pred_image[0])\r\n",
        "            ax.set_title(pred_class)\r\n",
        "            ax.set_xticks([])\r\n",
        "            ax.set_yticks([])\r\n",
        "            fig.add_subplot(ax)\r\n",
        "        \r\n",
        "\r\n",
        "\r\n",
        "fig.show()"
      ],
      "execution_count": null,
      "outputs": []
    },
    {
      "cell_type": "code",
      "metadata": {
        "id": "EqTDT7mtwjmZ"
      },
      "source": [
        "centr_model = keras.models.load_model('/content/centr.h5')"
      ],
      "execution_count": null,
      "outputs": []
    },
    {
      "cell_type": "code",
      "metadata": {
        "id": "0aL8jc1HwzWS"
      },
      "source": [
        "fig = plot.figure(figsize=(30, 30))\r\n",
        "outer = gridspec.GridSpec(1, 5, wspace=0.2, hspace=0.2)\r\n",
        "\r\n",
        "for i in range(5):\r\n",
        "    inner = gridspec.GridSpecFromSubplotSpec(2, 1,subplot_spec=outer[i], wspace=0.1, hspace=0.1)\r\n",
        "    rnd_number = randint(0,len(pred_images))\r\n",
        "    pred_image = np.array([pred_images[rnd_number]])\r\n",
        "    pred_class = get_classlabel(centr_model.predict_classes(pred_image)[0])\r\n",
        "    pred_prob = centr_model.predict(pred_image).reshape(6)\r\n",
        "    for j in range(2):\r\n",
        "        if (j%2) == 0:\r\n",
        "            ax = plot.Subplot(fig, inner[j])\r\n",
        "            ax.imshow(pred_image[0])\r\n",
        "            ax.set_title(pred_class)\r\n",
        "            ax.set_xticks([])\r\n",
        "            ax.set_yticks([])\r\n",
        "            fig.add_subplot(ax)\r\n",
        "        \r\n",
        "\r\n",
        "\r\n",
        "fig.show()"
      ],
      "execution_count": null,
      "outputs": []
    }
  ]
}