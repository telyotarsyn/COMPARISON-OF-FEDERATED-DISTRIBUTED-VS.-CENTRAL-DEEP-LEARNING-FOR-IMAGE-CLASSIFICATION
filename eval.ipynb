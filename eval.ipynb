{
  "nbformat": 4,
  "nbformat_minor": 0,
  "metadata": {
    "colab": {
      "name": "eval.ipynb",
      "private_outputs": true,
      "provenance": [],
      "collapsed_sections": []
    },
    "kernelspec": {
      "name": "python3",
      "display_name": "Python 3"
    }
  },
  "cells": [
    {
      "cell_type": "code",
      "metadata": {
        "id": "Y2tW3GXd4inU"
      },
      "source": [
        "import tensorflow.keras.layers as Layers\r\n",
        "import tensorflow.keras.activations as Actications\r\n",
        "import tensorflow.keras.models as Models\r\n",
        "import tensorflow.keras.optimizers as Optimizer\r\n",
        "import tensorflow.keras.metrics as Metrics\r\n",
        "import tensorflow.keras.utils as Utils\r\n",
        "from keras.utils.vis_utils import model_to_dot\r\n",
        "import os\r\n",
        "import matplotlib.pyplot as plot\r\n",
        "import cv2\r\n",
        "import numpy as np\r\n",
        "from sklearn.utils import shuffle\r\n",
        "from sklearn.metrics import confusion_matrix as CM\r\n",
        "from random import randint\r\n",
        "from IPython.display import SVG\r\n",
        "import matplotlib.gridspec as gridspec"
      ],
      "execution_count": null,
      "outputs": []
    },
    {
      "cell_type": "code",
      "metadata": {
        "id": "nBm0mNTu41Lo"
      },
      "source": [
        "def get_images(directory):\r\n",
        "    Images = []\r\n",
        "    Labels = []  # 0 for Building , 1 for forest, 2 for glacier, 3 for mountain, 4 for Sea , 5 for Street\r\n",
        "    label = 0\r\n",
        "    \r\n",
        "    for labels in os.listdir(directory): #Main Directory where each class label is present as folder name.\r\n",
        "        if labels == 'glacier': #Folder contain Glacier Images get the '2' class label.\r\n",
        "            label = 2\r\n",
        "        elif labels == 'sea':\r\n",
        "            label = 4\r\n",
        "        elif labels == 'buildings':\r\n",
        "            label = 0\r\n",
        "        elif labels == 'forest':\r\n",
        "            label = 1\r\n",
        "        elif labels == 'street':\r\n",
        "            label = 5\r\n",
        "        elif labels == 'mountain':\r\n",
        "            label = 3\r\n",
        "        \r\n",
        "        for image_file in os.listdir(directory+labels): #Extracting the file name of the image from Class Label folder\r\n",
        "            image = cv2.imread(directory+labels+r'/'+image_file) #Reading the image (OpenCV)\r\n",
        "            image = cv2.resize(image,(150,150)) #Resize the image, Some images are different sizes. (Resizing is very Important)\r\n",
        "            Images.append(image)\r\n",
        "            Labels.append(label)\r\n",
        "    \r\n",
        "    return shuffle(Images,Labels,random_state=817328462) #Shuffle the dataset you just prepared.\r\n",
        "\r\n",
        "def get_classlabel(class_code):\r\n",
        "    labels = {2:'glacier', 4:'sea', 0:'buildings', 1:'forest', 5:'street', 3:'mountain'}\r\n",
        "    \r\n",
        "    return labels[class_code]"
      ],
      "execution_count": null,
      "outputs": []
    },
    {
      "cell_type": "code",
      "metadata": {
        "id": "lvp-z5fW44FL"
      },
      "source": [
        "from google.colab import files"
      ],
      "execution_count": null,
      "outputs": []
    },
    {
      "cell_type": "code",
      "metadata": {
        "id": "bZqsqqiH4_Yl"
      },
      "source": [
        "files.upload()"
      ],
      "execution_count": null,
      "outputs": []
    },
    {
      "cell_type": "code",
      "metadata": {
        "id": "fq8Bjs8z5Eae"
      },
      "source": [
        "pr_im,no_labels = get_images('/content/pred/')\r\n",
        "pr_im = np.array(pr_im)\r\n",
        "pr_im.shape"
      ],
      "execution_count": null,
      "outputs": []
    },
    {
      "cell_type": "code",
      "metadata": {
        "id": "ElzIdQ6b5uLx"
      },
      "source": [
        "import keras\r\n",
        "centr_model = keras.models.load_model('/content/centr.h5')"
      ],
      "execution_count": null,
      "outputs": []
    },
    {
      "cell_type": "code",
      "metadata": {
        "id": "o9b4LZsv5afG"
      },
      "source": [
        "fig = plot.figure(figsize=(30, 30))\r\n",
        "outer = gridspec.GridSpec(1, 5, wspace=0.2, hspace=0.2)\r\n",
        "\r\n",
        "for i in range(5):\r\n",
        "    inner = gridspec.GridSpecFromSubplotSpec(2, 1,subplot_spec=outer[i], wspace=0.1, hspace=0.1)\r\n",
        "    rnd_number = i\r\n",
        "    pred_image = np.array([pr_im[rnd_number]])\r\n",
        "    pred_class = get_classlabel(centr_model.predict_classes(pred_image)[0])\r\n",
        "    pred_prob = centr_model.predict(pred_image).reshape(6)\r\n",
        "    for j in range(2):\r\n",
        "        if (j%2) == 0:\r\n",
        "            ax = plot.Subplot(fig, inner[j])\r\n",
        "            ax.imshow(pred_image[0])\r\n",
        "            ax.set_title(pred_class)\r\n",
        "            ax.set_xticks([])\r\n",
        "            ax.set_yticks([])\r\n",
        "            fig.add_subplot(ax)\r\n",
        "        \r\n",
        "\r\n",
        "\r\n",
        "fig.show()"
      ],
      "execution_count": null,
      "outputs": []
    },
    {
      "cell_type": "code",
      "metadata": {
        "id": "yDVtmj3W55iX"
      },
      "source": [
        "fed_model = keras.models.load_model('/content/fed_avg_model.h5')"
      ],
      "execution_count": null,
      "outputs": []
    },
    {
      "cell_type": "code",
      "metadata": {
        "id": "RLD6TUK-6JnR"
      },
      "source": [
        "fed_model.compile(optimizer=Optimizer.SGD(lr=0.0001),loss='categorical_crossentropy',metrics=['accuracy'])"
      ],
      "execution_count": null,
      "outputs": []
    },
    {
      "cell_type": "code",
      "metadata": {
        "id": "BCjh3q_O6RtC"
      },
      "source": [
        "fig = plot.figure(figsize=(30, 30))\r\n",
        "outer = gridspec.GridSpec(1, 5, wspace=0.2, hspace=0.2)\r\n",
        "\r\n",
        "for i in range(5):\r\n",
        "    inner = gridspec.GridSpecFromSubplotSpec(2, 1,subplot_spec=outer[i], wspace=0.1, hspace=0.1)\r\n",
        "    rnd_number = i\r\n",
        "    pred_image = np.array([pr_im[rnd_number]])\r\n",
        "    pred_class = get_classlabel(fed_model.predict_classes(pred_image)[0])\r\n",
        "    pred_prob = fed_model.predict(pred_image).reshape(6)\r\n",
        "    for j in range(2):\r\n",
        "        if (j%2) == 0:\r\n",
        "            ax = plot.Subplot(fig, inner[j])\r\n",
        "            ax.imshow(pred_image[0])\r\n",
        "            ax.set_title(pred_class)\r\n",
        "            ax.set_xticks([])\r\n",
        "            ax.set_yticks([])\r\n",
        "            fig.add_subplot(ax)\r\n",
        "        \r\n",
        "\r\n",
        "\r\n",
        "fig.show()"
      ],
      "execution_count": null,
      "outputs": []
    }
  ]
}